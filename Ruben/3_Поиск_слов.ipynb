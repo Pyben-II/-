{
  "nbformat": 4,
  "nbformat_minor": 0,
  "metadata": {
    "colab": {
      "provenance": [],
      "include_colab_link": true
    },
    "kernelspec": {
      "name": "python3",
      "display_name": "Python 3"
    },
    "language_info": {
      "name": "python"
    }
  },
  "cells": [
    {
      "cell_type": "markdown",
      "metadata": {
        "id": "view-in-github",
        "colab_type": "text"
      },
      "source": [
        "<a href=\"https://colab.research.google.com/github/Pyben-II/Aidigo-logistic/blob/main/Ruben/3_%D0%9F%D0%BE%D0%B8%D1%81%D0%BA_%D1%81%D0%BB%D0%BE%D0%B2.ipynb\" target=\"_parent\"><img src=\"https://colab.research.google.com/assets/colab-badge.svg\" alt=\"Open In Colab\"/></a>"
      ]
    },
    {
      "cell_type": "code",
      "execution_count": null,
      "metadata": {
        "colab": {
          "base_uri": "https://localhost:8080/"
        },
        "id": "MubLy6jRRmNC",
        "outputId": "45089bf8-7c09-4c2c-88f0-a30401e31b2b"
      },
      "outputs": [
        {
          "output_type": "stream",
          "name": "stdout",
          "text": [
            "Файл 'Всё, кина не будет.txt' содержит схожие слова с файлом 'Ненорматив.txt': {'электричество'}\n",
            "Файл 'мерлин монро - scanca.net.txt' содержит схожие слова с файлом 'Ненорматив.txt': {'монро', 'мэрилин'}\n"
          ]
        }
      ],
      "source": [
        "import os\n",
        "\n",
        "# Функция для чтения слов из файла\n",
        "def read_words_from_file(file_path):\n",
        "    with open(file_path, \"r\", encoding=\"utf-8\") as file:\n",
        "        words = set(file.read().split())\n",
        "    return words\n",
        "\n",
        "# Путь к файлу с ненормативными словами\n",
        "non_standard_file = \"/content/drive/MyDrive/Пансионат(аудио)/Dataset/Короткие фразы/text/Ненорматив.txt\"\n",
        "non_standard_words = read_words_from_file(non_standard_file)\n",
        "\n",
        "# Путь к папке с текстовыми файлами\n",
        "text_folder = \"/content/drive/MyDrive/Пансионат(аудио)/Dataset/Короткие фразы/text\"\n",
        "\n",
        "# Перебор текстовых файлов в папке \"TEKST\"\n",
        "for text_file in os.listdir(text_folder):\n",
        "    if text_file.endswith(\".txt\") and text_file != \"Ненорматив.txt\":\n",
        "        text_path = os.path.join(text_folder, text_file)\n",
        "\n",
        "        # Чтение слов из текстового файла\n",
        "        with open(text_path, \"r\", encoding=\"utf-8\") as file:\n",
        "            text_content = file.read().lower()                    # Преобразование текста в нижний регистр\n",
        "            text_words = set(text_content.split())\n",
        "\n",
        "        common_words = non_standard_words.intersection(text_words)\n",
        "\n",
        "        if common_words:\n",
        "            print(f\"Файл '{text_file}' содержит схожие слова с файлом 'Ненорматив.txt': {common_words}\")"
      ]
    }
  ]
}