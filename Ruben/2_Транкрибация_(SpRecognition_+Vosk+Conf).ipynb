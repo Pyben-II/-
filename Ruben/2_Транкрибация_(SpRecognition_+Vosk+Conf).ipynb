{
  "nbformat": 4,
  "nbformat_minor": 0,
  "metadata": {
    "colab": {
      "provenance": [],
      "toc_visible": true,
      "include_colab_link": true
    },
    "kernelspec": {
      "name": "python3",
      "display_name": "Python 3"
    },
    "language_info": {
      "name": "python"
    }
  },
  "cells": [
    {
      "cell_type": "markdown",
      "metadata": {
        "id": "view-in-github",
        "colab_type": "text"
      },
      "source": [
        "<a href=\"https://colab.research.google.com/github/Pyben-II/Aidigo-logistic/blob/main/Ruben/2_%D0%A2%D1%80%D0%B0%D0%BD%D0%BA%D1%80%D0%B8%D0%B1%D0%B0%D1%86%D0%B8%D1%8F_(SpRecognition_%2BVosk%2BConf).ipynb\" target=\"_parent\"><img src=\"https://colab.research.google.com/assets/colab-badge.svg\" alt=\"Open In Colab\"/></a>"
      ]
    },
    {
      "cell_type": "markdown",
      "source": [
        "# Установка библиотек"
      ],
      "metadata": {
        "id": "vP638ozWWlYS"
      }
    },
    {
      "cell_type": "code",
      "source": [
        "!pip install pydub # обработка и конвертация аудиофайлов\n",
        "\n",
        "# Установка библиотек для SpeechRecognition\n",
        "!pip install SpeechRecognition\n",
        "\n",
        "# Установка библиотек для vosk\n",
        "!pip install moviepy                      # работа с видеофайлами\n",
        "!pip install vosk                         # для использования моделей Vosk для распознавания речи\n",
        "\n",
        "# Установка библиотек для Conformer\n",
        "!pip install torchaudio transformers"
      ],
      "metadata": {
        "id": "TeYrVv2QMC47",
        "colab": {
          "base_uri": "https://localhost:8080/"
        },
        "outputId": "2339c241-d65f-4c06-d489-27700264ec32"
      },
      "execution_count": null,
      "outputs": [
        {
          "output_type": "stream",
          "name": "stdout",
          "text": [
            "Requirement already satisfied: pydub in /usr/local/lib/python3.10/dist-packages (0.25.1)\n",
            "Requirement already satisfied: SpeechRecognition in /usr/local/lib/python3.10/dist-packages (3.10.3)\n",
            "Requirement already satisfied: requests>=2.26.0 in /usr/local/lib/python3.10/dist-packages (from SpeechRecognition) (2.31.0)\n",
            "Requirement already satisfied: typing-extensions in /usr/local/lib/python3.10/dist-packages (from SpeechRecognition) (4.10.0)\n",
            "Requirement already satisfied: charset-normalizer<4,>=2 in /usr/local/lib/python3.10/dist-packages (from requests>=2.26.0->SpeechRecognition) (3.3.2)\n",
            "Requirement already satisfied: idna<4,>=2.5 in /usr/local/lib/python3.10/dist-packages (from requests>=2.26.0->SpeechRecognition) (3.6)\n",
            "Requirement already satisfied: urllib3<3,>=1.21.1 in /usr/local/lib/python3.10/dist-packages (from requests>=2.26.0->SpeechRecognition) (2.0.7)\n",
            "Requirement already satisfied: certifi>=2017.4.17 in /usr/local/lib/python3.10/dist-packages (from requests>=2.26.0->SpeechRecognition) (2024.2.2)\n",
            "Requirement already satisfied: moviepy in /usr/local/lib/python3.10/dist-packages (1.0.3)\n",
            "Requirement already satisfied: decorator<5.0,>=4.0.2 in /usr/local/lib/python3.10/dist-packages (from moviepy) (4.4.2)\n",
            "Requirement already satisfied: tqdm<5.0,>=4.11.2 in /usr/local/lib/python3.10/dist-packages (from moviepy) (4.66.2)\n",
            "Requirement already satisfied: requests<3.0,>=2.8.1 in /usr/local/lib/python3.10/dist-packages (from moviepy) (2.31.0)\n",
            "Requirement already satisfied: proglog<=1.0.0 in /usr/local/lib/python3.10/dist-packages (from moviepy) (0.1.10)\n",
            "Requirement already satisfied: numpy>=1.17.3 in /usr/local/lib/python3.10/dist-packages (from moviepy) (1.25.2)\n",
            "Requirement already satisfied: imageio<3.0,>=2.5 in /usr/local/lib/python3.10/dist-packages (from moviepy) (2.31.6)\n",
            "Requirement already satisfied: imageio-ffmpeg>=0.2.0 in /usr/local/lib/python3.10/dist-packages (from moviepy) (0.4.9)\n",
            "Requirement already satisfied: pillow<10.1.0,>=8.3.2 in /usr/local/lib/python3.10/dist-packages (from imageio<3.0,>=2.5->moviepy) (9.4.0)\n",
            "Requirement already satisfied: setuptools in /usr/local/lib/python3.10/dist-packages (from imageio-ffmpeg>=0.2.0->moviepy) (67.7.2)\n",
            "Requirement already satisfied: charset-normalizer<4,>=2 in /usr/local/lib/python3.10/dist-packages (from requests<3.0,>=2.8.1->moviepy) (3.3.2)\n",
            "Requirement already satisfied: idna<4,>=2.5 in /usr/local/lib/python3.10/dist-packages (from requests<3.0,>=2.8.1->moviepy) (3.6)\n",
            "Requirement already satisfied: urllib3<3,>=1.21.1 in /usr/local/lib/python3.10/dist-packages (from requests<3.0,>=2.8.1->moviepy) (2.0.7)\n",
            "Requirement already satisfied: certifi>=2017.4.17 in /usr/local/lib/python3.10/dist-packages (from requests<3.0,>=2.8.1->moviepy) (2024.2.2)\n",
            "Requirement already satisfied: vosk in /usr/local/lib/python3.10/dist-packages (0.3.45)\n",
            "Requirement already satisfied: cffi>=1.0 in /usr/local/lib/python3.10/dist-packages (from vosk) (1.16.0)\n",
            "Requirement already satisfied: requests in /usr/local/lib/python3.10/dist-packages (from vosk) (2.31.0)\n",
            "Requirement already satisfied: tqdm in /usr/local/lib/python3.10/dist-packages (from vosk) (4.66.2)\n",
            "Requirement already satisfied: srt in /usr/local/lib/python3.10/dist-packages (from vosk) (3.5.3)\n",
            "Requirement already satisfied: websockets in /usr/local/lib/python3.10/dist-packages (from vosk) (12.0)\n",
            "Requirement already satisfied: pycparser in /usr/local/lib/python3.10/dist-packages (from cffi>=1.0->vosk) (2.22)\n",
            "Requirement already satisfied: charset-normalizer<4,>=2 in /usr/local/lib/python3.10/dist-packages (from requests->vosk) (3.3.2)\n",
            "Requirement already satisfied: idna<4,>=2.5 in /usr/local/lib/python3.10/dist-packages (from requests->vosk) (3.6)\n",
            "Requirement already satisfied: urllib3<3,>=1.21.1 in /usr/local/lib/python3.10/dist-packages (from requests->vosk) (2.0.7)\n",
            "Requirement already satisfied: certifi>=2017.4.17 in /usr/local/lib/python3.10/dist-packages (from requests->vosk) (2024.2.2)\n"
          ]
        }
      ]
    },
    {
      "cell_type": "markdown",
      "source": [
        "# Загрузка библиотек"
      ],
      "metadata": {
        "id": "UwaKO_AYMJ5h"
      }
    },
    {
      "cell_type": "code",
      "source": [
        "import os\n",
        "from pydub import AudioSegment\n",
        "\n",
        "# Загрузка библиотек для SpeechRecognition\n",
        "import speech_recognition as sr\n",
        "\n",
        "# Загрузка библиотек для vosk\n",
        "from vosk import Model, KaldiRecognizer\n",
        "from pydub import AudioSegment\n",
        "import wave                                   # работа с аудиофайлами в формате WAV\n",
        "import json\n",
        "# import subprocess                           # Импорт модуля subprocess\n",
        "\n",
        "# Загрузка библиотек для Conformer\n",
        "import torchaudio\n",
        "from transformers import Wav2Vec2Processor, Wav2Vec2ForCTC\n",
        "import torch"
      ],
      "metadata": {
        "id": "C8mALUHTMHbt"
      },
      "execution_count": null,
      "outputs": []
    },
    {
      "cell_type": "code",
      "source": [
        "# Загрузка библиотек для Conformer\n",
        "import torchaudio\n",
        "from transformers import Wav2Vec2Processor, Wav2Vec2ForCTC\n",
        "import torch"
      ],
      "metadata": {
        "id": "C56cNsTEYGU8"
      },
      "execution_count": null,
      "outputs": []
    },
    {
      "cell_type": "markdown",
      "source": [
        "# def для всех"
      ],
      "metadata": {
        "id": "y7YJGND5W0vo"
      }
    },
    {
      "cell_type": "code",
      "source": [
        "# Функция для распознавания речи в аудиофайле\n",
        "def transcribe_spch_recognition(audio_file, txt_folder):\n",
        "    recognizer = sr.Recognizer()\n",
        "\n",
        "    with sr.AudioFile(audio_file) as source:\n",
        "        audio_data = recognizer.record(source)\n",
        "\n",
        "        try:\n",
        "            text = recognizer.recognize_google(audio_data, language=\"ru-RU\")\n",
        "            print(f'\\nТекст из аудиофайла \"{wav_file}\":')\n",
        "            print(text)\n",
        "            # Сохранение текста в отдельный файл\n",
        "            text_file = os.path.splitext(os.path.basename(audio_file))[0] + \".txt\"\n",
        "            text_path = os.path.join(txt_folder, text_file)\n",
        "            with open(text_path, \"w\") as file:\n",
        "                file.write(text)\n",
        "        except sr.UnknownValueError:\n",
        "            print(f'\\nТекст из аудиофайла \"{wav_file}\":')\n",
        "            print(\"- Речь не распознана\")\n",
        "        except sr.RequestError as e:\n",
        "            print(f'\\nТекст из аудиофайла \"{wav_file}\":')\n",
        "            print(\"Ошибка при запросе к сервису распознавания: {0}\".format(e))\n",
        "\n",
        "def transcribe_vosk_1(file_path, FRAME_RATE):\n",
        "    # Открываем аудиофайл с помощью wave\n",
        "    wf = wave.open(file_path, \"rb\")\n",
        "    rec = KaldiRecognizer(model, wf.getframerate())\n",
        "    # Чтобы получать слова вместо простых результатов\n",
        "    rec.SetWords(True)\n",
        "\n",
        "    # Чтение данных и распознавание\n",
        "    while True:\n",
        "        data = wf.readframes(FRAME_RATE)\n",
        "        if len(data) == 0:\n",
        "            break\n",
        "        if rec.AcceptWaveform(data):\n",
        "            print(\"Процесс распознавания...\")  # Логирование процесса\n",
        "\n",
        "    # Получение итогового результата\n",
        "    result = rec.FinalResult()\n",
        "    return result\n",
        "\n",
        "def transcribe_vosk_2(audio_files, FRAME_RATE, CHANNELS):\n",
        "    rec = KaldiRecognizer(model, FRAME_RATE)\n",
        "    rec.SetWords(True)\n",
        "\n",
        "    # Используя библиотеку pydub делаем предобработку аудио\n",
        "    mp3 = AudioSegment.from_mp3(audio_files)\n",
        "    mp3 = mp3.set_channels(CHANNELS)\n",
        "    mp3 = mp3.set_frame_rate(FRAME_RATE)\n",
        "\n",
        "    # Преобразуем вывод в json\n",
        "    rec.AcceptWaveform(mp3.raw_data)\n",
        "    result = rec.Result()\n",
        "    text = json.loads(result)[\"text\"]\n",
        "\n",
        "    return text\n",
        "\n",
        "def conformer_model(audio_paths):\n",
        "    # Инициализация процессора и модели Conformer (с переводом на английский)\n",
        "    # processor = Wav2Vec2Processor.from_pretrained(\"facebook/wav2vec2-base-960h\")\n",
        "    # model = Wav2Vec2ForCTC.from_pretrained(\"facebook/wav2vec2-base-960h\")\n",
        "\n",
        "    # Инициализация процессора и модели Conformer (коверканный русский язык)\n",
        "    processor = Wav2Vec2Processor.from_pretrained(\"jonatasgrosman/wav2vec2-large-xlsr-53-russian\")\n",
        "    model = Wav2Vec2ForCTC.from_pretrained(\"jonatasgrosman/wav2vec2-large-xlsr-53-russian\")\n",
        "\n",
        "    for audio_path in audio_paths:\n",
        "        waveform, sample_rate = torchaudio.load(audio_path)\n",
        "        # waveform, sample_rate = torchaudio.load(audio_path, normalization=True, channels_first=True, sample_rate=16000) # нормализация с частоты дискретизации\n",
        "        waveform = waveform.mean(dim=0, keepdim=True)\n",
        "        waveform = waveform.squeeze().numpy()\n",
        "        waveform = torch.tensor(waveform)\n",
        "\n",
        "\n",
        "        input_values = processor(waveform, return_tensors=\"pt\", sampling_rate=16000).input_values\n",
        "        # input_values = processor(waveform, return_tensors=\"pt\", sampling_rate=sample_rate).input_values\n",
        "        logits = model(input_values).logits\n",
        "        predicted_ids = torch.argmax(logits, dim=-1)\n",
        "        transcription = processor.batch_decode(predicted_ids)[0]\n",
        "\n",
        "        print(\"\\nТранскрибация для {}: {}\".format(os.path.basename(audio_path), transcription))"
      ],
      "metadata": {
        "id": "z2gIvE65MdAW"
      },
      "execution_count": null,
      "outputs": []
    },
    {
      "cell_type": "markdown",
      "source": [
        "# Пути к файлам"
      ],
      "metadata": {
        "id": "znrY6n-DXnqm"
      }
    },
    {
      "cell_type": "code",
      "source": [
        "# Для speech_recognition\n",
        "\n",
        "# Путь к папке с wav файлами\n",
        "wav_folder = \"/content/drive/MyDrive/Пансионат(аудио)/Dataset/Короткие фразы/wav\"\n",
        "\n",
        "# Путь к папке для сохранения текстовых файлов\n",
        "output_file_path = \"/content/drive/MyDrive/Пансионат(аудио)/Dataset/Короткие фразы/text\"\n",
        "\n",
        "# Для VOSK\n",
        "\n",
        "# Список путей к аудиофайлам\n",
        "audio_files = ['/content/drive/MyDrive/Пансионат(аудио)/Dataset/Короткие фразы/wav/Microphone_ARU_OFF.wav',\n",
        "               '/content/drive/MyDrive/Пансионат(аудио)/Dataset/Короткие фразы/wav/лепота.wav',\n",
        "               '/content/drive/MyDrive/Пансионат(аудио)/Dataset/Короткие фразы/wav/Ларису Ивановну хачу.wav',\n",
        "               '/content/drive/MyDrive/Пансионат(аудио)/Dataset/Split/wav/audio1_segment_32.wav']\n",
        "\n",
        "# audio_files = ['/content/drive/MyDrive/Пансионат(аудио)/Dataset/Короткие фразы/wav/Microphone_ARU_OFF.wav',\n",
        "#                '/content/drive/MyDrive/Пансионат(аудио)/Dataset/Короткие фразы/лепота.mp3',\n",
        "#                '/content/drive/MyDrive/Пансионат(аудио)/Dataset/Короткие фразы/Ларису Ивановну хачу.mp3',\n",
        "#                '/content/drive/MyDrive/Пансионат(аудио)/Dataset/Split/audio1_segment_32.mp3']\n",
        "\n",
        "# Путь к модели vosk\n",
        "model_path = '/content/drive/MyDrive/Пансионат(аудио)/speech/model_vosk'\n",
        "# Модель vosk\n",
        "model = Model(model_path)"
      ],
      "metadata": {
        "id": "zyd701bdYZeq"
      },
      "execution_count": null,
      "outputs": []
    },
    {
      "cell_type": "markdown",
      "source": [
        "# 1_SpeechRecognition"
      ],
      "metadata": {
        "id": "FXyQvFNIeqUV"
      }
    },
    {
      "cell_type": "code",
      "source": [
        "# Перебор файлов в папке wav\n",
        "for wav_file in os.listdir(wav_folder):\n",
        "    if wav_file.endswith(\".wav\"):\n",
        "        wav_path = os.path.join(wav_folder, wav_file)\n",
        "        transcribe_spch_recognition(wav_path, output_file_path)"
      ],
      "metadata": {
        "id": "tKzcWSSNMg0F",
        "colab": {
          "base_uri": "https://localhost:8080/"
        },
        "outputId": "26d1f270-f5e2-4b8e-9cec-d99ba733f950"
      },
      "execution_count": null,
      "outputs": [
        {
          "output_type": "stream",
          "name": "stdout",
          "text": [
            "\n",
            "Текст из аудиофайла \"Phone_ARU_OFF.wav\":\n",
            "три нуля Ольга здравствуйте сегодня вызов такси Подскажите пожалуйста сколько будет стоить проезд от проспекта Просвещения до аэропорта Спасибо\n",
            "\n",
            "Текст из аудиофайла \"Microphone_ARU_OFF.wav\":\n",
            "расстояние до микрофона 0,3 м 0,5 м 2 м 3 м 4 м 5 м 6 м 5 м 4 м 3 м 2 м 0,5 м 0,3\n",
            "\n",
            "Текст из аудиофайла \"навстречу эпохе - scanca.net.wav\":\n",
            "мы идём навстречу эпохи когда Социализм в той или иной его конкретный исторически обусловленной форме станет преобладающим общественной системой на Земле\n",
            "\n",
            "Текст из аудиофайла \"члены - scanca.net.wav\":\n",
            "члены политбюро ЦК КПСС кандидаты в члены политбюро и секретари ЦК КПСС первые секретари ЦК Компартии союзных республик другие члены Президиума торжественного заседания\n",
            "\n",
            "Текст из аудиофайла \"с добрым утром - scanca.net.wav\":\n",
            "начинаем нашу воскресную радиопередачу с добрым утром\n",
            "\n",
            "Текст из аудиофайла \"Санта Барбара.wav\":\n",
            "- Речь не распознана\n",
            "\n",
            "Текст из аудиофайла \"мерлин монро - scanca.net.wav\":\n",
            "И вообще я Мэрилин Монро У меня тоже номер лифчика\n",
            "\n",
            "Текст из аудиофайла \"в самодеятельности - scanca.net.wav\":\n",
            "вы в самодеятельности участвуете участвую\n",
            "\n",
            "Текст из аудиофайла \"лучшая девушка - scanca.net.wav\":\n",
            "Вы лучшая девушка в с\n",
            "\n",
            "Текст из аудиофайла \"элексир молодости - scanca.net.wav\":\n",
            "вы действуете на меня как эликсир молодости сейчас я не могу себе дать больше 17 лет\n",
            "\n",
            "Текст из аудиофайла \"универсал 69 - scanca.net.wav\":\n",
            "летний комбинированный костюм универсал 69 поощрительная премия номер областном форуме современной одежды в Житомире\n",
            "\n",
            "Текст из аудиофайла \"Идите в сад.wav\":\n",
            "вы ещё не в саду нет Идите в\n",
            "\n",
            "Текст из аудиофайла \"Это просто праздник.wav\":\n",
            "это просто праздник какой-то\n",
            "\n",
            "Текст из аудиофайла \"Это была комедия.wav\":\n",
            "даётся мне Джентльмены это была комедия\n",
            "\n",
            "Текст из аудиофайла \"Смех - Джентельмены удачи.wav\":\n",
            "- Речь не распознана\n",
            "\n",
            "Текст из аудиофайла \"Всё, кина не будет.wav\":\n",
            "всё кина не будет электричество кончилось\n",
            "\n",
            "Текст из аудиофайла \"Ларису Ивановну хачу.wav\":\n",
            "Алло Ларису Ивановну хочу\n",
            "\n",
            "Текст из аудиофайла \"лепота.wav\":\n",
            "- Речь не распознана\n"
          ]
        }
      ]
    },
    {
      "cell_type": "markdown",
      "source": [
        "# 2_VOSK"
      ],
      "metadata": {
        "id": "aaq0L7KYWrpw"
      }
    },
    {
      "cell_type": "markdown",
      "source": [
        "## код 1"
      ],
      "metadata": {
        "id": "zbN7PSb_QRGz"
      }
    },
    {
      "cell_type": "code",
      "source": [
        "# Устанавливаем Frame Rate\n",
        "FRAME_RATE = 8000\n",
        "\n",
        "for audio_file in audio_files:\n",
        "    text = transcribe_vosk_1(audio_file, FRAME_RATE)\n",
        "    output_file_path = \"/content/drive/MyDrive/Пансионат(аудио)/Dataset/Короткие фразы/text/vosk1_\" + os.path.basename(audio_file).replace('.wav', '.txt')\n",
        "    # output_file_path = \"/content/drive/MyDrive/Пансионат(аудио)/Dataset/Короткие фразы/text/vosk1_\" + str(audio_files.index(audio_file_path) + 1) + \".txt\"\n",
        "\n",
        "    with open(output_file_path, \"w\") as text_file:\n",
        "        print(f\"\\nТекст в файле: '{os.path.basename(output_file_path)}'.\")\n",
        "        print(f\"- '{text}'.\")\n",
        "        text_file.write(text)\n",
        "        print(f\"Текст успешно сохранен в файл '{output_file_path}'.\")"
      ],
      "metadata": {
        "id": "UpE9SHRfMmN9",
        "colab": {
          "base_uri": "https://localhost:8080/"
        },
        "outputId": "f0c1e30f-a004-48dc-8b16-285535d8badb"
      },
      "execution_count": null,
      "outputs": [
        {
          "output_type": "stream",
          "name": "stdout",
          "text": [
            "Процесс распознавания...\n",
            "Процесс распознавания...\n",
            "Процесс распознавания...\n",
            "Процесс распознавания...\n",
            "Процесс распознавания...\n",
            "Процесс распознавания...\n",
            "Процесс распознавания...\n",
            "Процесс распознавания...\n",
            "Процесс распознавания...\n",
            "Процесс распознавания...\n",
            "Процесс распознавания...\n",
            "Процесс распознавания...\n",
            "Процесс распознавания...\n",
            "Процесс распознавания...\n",
            "Процесс распознавания...\n",
            "Процесс распознавания...\n",
            "Процесс распознавания...\n",
            "Процесс распознавания...\n",
            "Процесс распознавания...\n",
            "Процесс распознавания...\n",
            "Процесс распознавания...\n",
            "Процесс распознавания...\n",
            "Процесс распознавания...\n",
            "Процесс распознавания...\n",
            "Процесс распознавания...\n",
            "Процесс распознавания...\n",
            "Процесс распознавания...\n",
            "\n",
            "Текст в файле: 'vosk1_Microphone_ARU_OFF.txt'.\n",
            "- '{\n",
            "  \"result\" : [{\n",
            "      \"conf\" : 1.000000,\n",
            "      \"end\" : 1.590000,\n",
            "      \"start\" : 0.900000,\n",
            "      \"word\" : \"расстояние\"\n",
            "    }, {\n",
            "      \"conf\" : 1.000000,\n",
            "      \"end\" : 1.710000,\n",
            "      \"start\" : 1.590000,\n",
            "      \"word\" : \"до\"\n",
            "    }, {\n",
            "      \"conf\" : 1.000000,\n",
            "      \"end\" : 2.400000,\n",
            "      \"start\" : 1.710000,\n",
            "      \"word\" : \"микрофона\"\n",
            "    }, {\n",
            "      \"conf\" : 1.000000,\n",
            "      \"end\" : 2.610000,\n",
            "      \"start\" : 2.400000,\n",
            "      \"word\" : \"ноль\"\n",
            "    }, {\n",
            "      \"conf\" : 1.000000,\n",
            "      \"end\" : 2.880000,\n",
            "      \"start\" : 2.610000,\n",
            "      \"word\" : \"три\"\n",
            "    }, {\n",
            "      \"conf\" : 1.000000,\n",
            "      \"end\" : 3.330000,\n",
            "      \"start\" : 2.880000,\n",
            "      \"word\" : \"метра\"\n",
            "    }, {\n",
            "      \"conf\" : 1.000000,\n",
            "      \"end\" : 4.800000,\n",
            "      \"start\" : 4.470000,\n",
            "      \"word\" : \"ноль\"\n",
            "    }, {\n",
            "      \"conf\" : 1.000000,\n",
            "      \"end\" : 5.220000,\n",
            "      \"start\" : 4.800000,\n",
            "      \"word\" : \"пять\"\n",
            "    }, {\n",
            "      \"conf\" : 0.984943,\n",
            "      \"end\" : 6.840000,\n",
            "      \"start\" : 6.270000,\n",
            "      \"word\" : \"метр\"\n",
            "    }, {\n",
            "      \"conf\" : 1.000000,\n",
            "      \"end\" : 8.700000,\n",
            "      \"start\" : 8.310000,\n",
            "      \"word\" : \"два\"\n",
            "    }, {\n",
            "      \"conf\" : 1.000000,\n",
            "      \"end\" : 9.150000,\n",
            "      \"start\" : 8.700000,\n",
            "      \"word\" : \"метра\"\n",
            "    }, {\n",
            "      \"conf\" : 1.000000,\n",
            "      \"end\" : 10.800000,\n",
            "      \"start\" : 10.470000,\n",
            "      \"word\" : \"три\"\n",
            "    }, {\n",
            "      \"conf\" : 1.000000,\n",
            "      \"end\" : 11.280000,\n",
            "      \"start\" : 10.800000,\n",
            "      \"word\" : \"метра\"\n",
            "    }, {\n",
            "      \"conf\" : 1.000000,\n",
            "      \"end\" : 13.110000,\n",
            "      \"start\" : 12.570000,\n",
            "      \"word\" : \"четыре\"\n",
            "    }, {\n",
            "      \"conf\" : 1.000000,\n",
            "      \"end\" : 13.560000,\n",
            "      \"start\" : 13.110000,\n",
            "      \"word\" : \"метра\"\n",
            "    }, {\n",
            "      \"conf\" : 1.000000,\n",
            "      \"end\" : 15.150000,\n",
            "      \"start\" : 14.790000,\n",
            "      \"word\" : \"пять\"\n",
            "    }, {\n",
            "      \"conf\" : 1.000000,\n",
            "      \"end\" : 15.630000,\n",
            "      \"start\" : 15.150000,\n",
            "      \"word\" : \"метров\"\n",
            "    }, {\n",
            "      \"conf\" : 1.000000,\n",
            "      \"end\" : 17.430000,\n",
            "      \"start\" : 17.010000,\n",
            "      \"word\" : \"шесть\"\n",
            "    }, {\n",
            "      \"conf\" : 1.000000,\n",
            "      \"end\" : 17.790000,\n",
            "      \"start\" : 17.430000,\n",
            "      \"word\" : \"метров\"\n",
            "    }, {\n",
            "      \"conf\" : 1.000000,\n",
            "      \"end\" : 19.920000,\n",
            "      \"start\" : 19.560000,\n",
            "      \"word\" : \"пять\"\n",
            "    }, {\n",
            "      \"conf\" : 1.000000,\n",
            "      \"end\" : 20.340000,\n",
            "      \"start\" : 19.920000,\n",
            "      \"word\" : \"метров\"\n",
            "    }, {\n",
            "      \"conf\" : 1.000000,\n",
            "      \"end\" : 22.410000,\n",
            "      \"start\" : 21.810000,\n",
            "      \"word\" : \"четыре\"\n",
            "    }, {\n",
            "      \"conf\" : 1.000000,\n",
            "      \"end\" : 22.830000,\n",
            "      \"start\" : 22.410000,\n",
            "      \"word\" : \"метра\"\n",
            "    }, {\n",
            "      \"conf\" : 1.000000,\n",
            "      \"end\" : 24.510000,\n",
            "      \"start\" : 24.270000,\n",
            "      \"word\" : \"три\"\n",
            "    }, {\n",
            "      \"conf\" : 1.000000,\n",
            "      \"end\" : 25.050000,\n",
            "      \"start\" : 24.510000,\n",
            "      \"word\" : \"метра\"\n",
            "    }, {\n",
            "      \"conf\" : 1.000000,\n",
            "      \"end\" : 26.730000,\n",
            "      \"start\" : 26.310000,\n",
            "      \"word\" : \"два\"\n",
            "    }, {\n",
            "      \"conf\" : 1.000000,\n",
            "      \"end\" : 27.270000,\n",
            "      \"start\" : 26.730000,\n",
            "      \"word\" : \"метра\"\n",
            "    }, {\n",
            "      \"conf\" : 1.000000,\n",
            "      \"end\" : 29.460000,\n",
            "      \"start\" : 28.860000,\n",
            "      \"word\" : \"метр\"\n",
            "    }, {\n",
            "      \"conf\" : 1.000000,\n",
            "      \"end\" : 31.050000,\n",
            "      \"start\" : 30.720000,\n",
            "      \"word\" : \"ноль\"\n",
            "    }, {\n",
            "      \"conf\" : 1.000000,\n",
            "      \"end\" : 31.350000,\n",
            "      \"start\" : 31.050000,\n",
            "      \"word\" : \"пять\"\n",
            "    }, {\n",
            "      \"conf\" : 1.000000,\n",
            "      \"end\" : 31.770000,\n",
            "      \"start\" : 31.350000,\n",
            "      \"word\" : \"метра\"\n",
            "    }, {\n",
            "      \"conf\" : 1.000000,\n",
            "      \"end\" : 32.820000,\n",
            "      \"start\" : 32.520000,\n",
            "      \"word\" : \"ноль\"\n",
            "    }, {\n",
            "      \"conf\" : 1.000000,\n",
            "      \"end\" : 33.120000,\n",
            "      \"start\" : 32.820000,\n",
            "      \"word\" : \"три\"\n",
            "    }],\n",
            "  \"text\" : \"расстояние до микрофона ноль три метра ноль пять метр два метра три метра четыре метра пять метров шесть метров пять метров четыре метра три метра два метра метр ноль пять метра ноль три\"\n",
            "}'.\n",
            "Текст успешно сохранен в файл '/content/drive/MyDrive/Пансионат(аудио)/Dataset/Короткие фразы/text/vosk1_Microphone_ARU_OFF.txt'.\n",
            "\n",
            "Текст в файле: 'vosk1_лепота.txt'.\n",
            "- '{\n",
            "  \"result\" : [{\n",
            "      \"conf\" : 1.000000,\n",
            "      \"end\" : 0.270000,\n",
            "      \"start\" : 0.000000,\n",
            "      \"word\" : \"для\"\n",
            "    }, {\n",
            "      \"conf\" : 1.000000,\n",
            "      \"end\" : 0.900000,\n",
            "      \"start\" : 0.270000,\n",
            "      \"word\" : \"плота\"\n",
            "    }],\n",
            "  \"text\" : \"для плота\"\n",
            "}'.\n",
            "Текст успешно сохранен в файл '/content/drive/MyDrive/Пансионат(аудио)/Dataset/Короткие фразы/text/vosk1_лепота.txt'.\n",
            "Процесс распознавания...\n",
            "Процесс распознавания...\n",
            "Процесс распознавания...\n",
            "Процесс распознавания...\n",
            "Процесс распознавания...\n",
            "Процесс распознавания...\n",
            "Процесс распознавания...\n",
            "Процесс распознавания...\n",
            "Процесс распознавания...\n",
            "\n",
            "Текст в файле: 'vosk1_Ларису Ивановну хачу.txt'.\n",
            "- '{\n",
            "  \"text\" : \"\"\n",
            "}'.\n",
            "Текст успешно сохранен в файл '/content/drive/MyDrive/Пансионат(аудио)/Dataset/Короткие фразы/text/vosk1_Ларису Ивановну хачу.txt'.\n",
            "Процесс распознавания...\n",
            "Процесс распознавания...\n",
            "Процесс распознавания...\n",
            "Процесс распознавания...\n",
            "Процесс распознавания...\n",
            "Процесс распознавания...\n",
            "Процесс распознавания...\n",
            "Процесс распознавания...\n",
            "Процесс распознавания...\n",
            "Процесс распознавания...\n",
            "Процесс распознавания...\n",
            "Процесс распознавания...\n",
            "Процесс распознавания...\n",
            "Процесс распознавания...\n",
            "Процесс распознавания...\n",
            "Процесс распознавания...\n",
            "Процесс распознавания...\n",
            "Процесс распознавания...\n",
            "Процесс распознавания...\n",
            "Процесс распознавания...\n",
            "Процесс распознавания...\n",
            "Процесс распознавания...\n",
            "Процесс распознавания...\n",
            "Процесс распознавания...\n",
            "Процесс распознавания...\n",
            "Процесс распознавания...\n",
            "Процесс распознавания...\n",
            "Процесс распознавания...\n",
            "Процесс распознавания...\n",
            "Процесс распознавания...\n",
            "Процесс распознавания...\n",
            "Процесс распознавания...\n",
            "Процесс распознавания...\n",
            "Процесс распознавания...\n",
            "Процесс распознавания...\n",
            "Процесс распознавания...\n",
            "Процесс распознавания...\n",
            "Процесс распознавания...\n",
            "Процесс распознавания...\n",
            "Процесс распознавания...\n",
            "Процесс распознавания...\n",
            "\n",
            "Текст в файле: 'vosk1_audio1_segment_32.txt'.\n",
            "- '{\n",
            "  \"text\" : \"\"\n",
            "}'.\n",
            "Текст успешно сохранен в файл '/content/drive/MyDrive/Пансионат(аудио)/Dataset/Короткие фразы/text/vosk1_audio1_segment_32.txt'.\n"
          ]
        }
      ]
    },
    {
      "cell_type": "markdown",
      "source": [
        "## код 2(с каналом)"
      ],
      "metadata": {
        "id": "6d5GFkM101l0"
      }
    },
    {
      "cell_type": "code",
      "source": [
        "# Устанавливаем Frame Rate\n",
        "FRAME_RATE = 8000\n",
        "CHANNELS=1\n",
        "\n",
        "for audio_file in audio_files:\n",
        "    transcribed_text = transcribe_vosk_2(audio_file, FRAME_RATE, CHANNELS)\n",
        "\n",
        "    output_file_path = \"/content/drive/MyDrive/Пансионат(аудио)/Dataset/Короткие фразы/text/vosk2_\" + os.path.basename(audio_file).replace('.wav', '.txt')\n",
        "\n",
        "    with open(output_file_path, 'w') as f:\n",
        "        json.dump(transcribed_text, f, ensure_ascii=False, indent=4)\n",
        "        print(f\"\\nВ файле '{os.path.basename(output_file_path)}':\")\n",
        "        print(f\"- '{transcribed_text}'.\")\n",
        "        print(f\"Текст сохранен в файл: '{output_file_path}'.\")\n",
        "\n",
        "print(\"\\nВсе аудиофайлы успешно обработаны.\")"
      ],
      "metadata": {
        "id": "WRCIp97of0EO",
        "colab": {
          "base_uri": "https://localhost:8080/"
        },
        "outputId": "d68c8e26-df74-4137-e10c-4b5b192d28dc"
      },
      "execution_count": null,
      "outputs": [
        {
          "output_type": "stream",
          "name": "stdout",
          "text": [
            "\n",
            "В файле 'vosk2_Microphone_ARU_OFF.txt':\n",
            "- 'расстояние до микрофона ноль три метра ноль пять метр два метра три метра четыре метра пять метров шесть метров пять метров четыре метра три метра два метра метр ноль пять метра ноль три'.\n",
            "Текст сохранен в файл: '/content/drive/MyDrive/Пансионат(аудио)/Dataset/Короткие фразы/text/vosk2_Microphone_ARU_OFF.txt'.\n",
            "\n",
            "В файле 'vosk2_лепота.txt':\n",
            "- ''.\n",
            "Текст сохранен в файл: '/content/drive/MyDrive/Пансионат(аудио)/Dataset/Короткие фразы/text/vosk2_лепота.txt'.\n",
            "\n",
            "В файле 'vosk2_Ларису Ивановну хачу.txt':\n",
            "- 'алло лариса'.\n",
            "Текст сохранен в файл: '/content/drive/MyDrive/Пансионат(аудио)/Dataset/Короткие фразы/text/vosk2_Ларису Ивановну хачу.txt'.\n",
            "\n",
            "В файле 'vosk2_audio1_segment_32.txt':\n",
            "- 'если инфекция'.\n",
            "Текст сохранен в файл: '/content/drive/MyDrive/Пансионат(аудио)/Dataset/Короткие фразы/text/vosk2_audio1_segment_32.txt'.\n",
            "\n",
            "Все аудиофайлы успешно обработаны.\n"
          ]
        }
      ]
    },
    {
      "cell_type": "markdown",
      "source": [
        "# 3_Conformer"
      ],
      "metadata": {
        "id": "FXcu7V6LEHc0"
      }
    },
    {
      "cell_type": "code",
      "source": [
        "# Path to the folder containing audio files\n",
        "wav_folder = \"/content/drive/MyDrive/Пансионат(аудио)/Dataset/Короткие фразы/wav\"\n",
        "audio_files = [os.path.join(wav_folder, f) for f in os.listdir(wav_folder) if f.endswith('.wav')]\n",
        "\n",
        "conformer_model(audio_files)"
      ],
      "metadata": {
        "colab": {
          "base_uri": "https://localhost:8080/"
        },
        "id": "BmDqdPj3Ujro",
        "outputId": "ff2924e6-b2b3-4bcb-b5f9-0c3f5d20e134"
      },
      "execution_count": null,
      "outputs": [
        {
          "output_type": "stream",
          "name": "stderr",
          "text": [
            "/usr/local/lib/python3.10/dist-packages/huggingface_hub/utils/_token.py:88: UserWarning: \n",
            "The secret `HF_TOKEN` does not exist in your Colab secrets.\n",
            "To authenticate with the Hugging Face Hub, create a token in your settings tab (https://huggingface.co/settings/tokens), set it as secret in your Google Colab and restart your session.\n",
            "You will be able to reuse this secret in all of your notebooks.\n",
            "Please note that authentication is recommended but still optional to access public models or datasets.\n",
            "  warnings.warn(\n",
            "Some weights of the model checkpoint at jonatasgrosman/wav2vec2-large-xlsr-53-russian were not used when initializing Wav2Vec2ForCTC: ['wav2vec2.encoder.pos_conv_embed.conv.weight_g', 'wav2vec2.encoder.pos_conv_embed.conv.weight_v']\n",
            "- This IS expected if you are initializing Wav2Vec2ForCTC from the checkpoint of a model trained on another task or with another architecture (e.g. initializing a BertForSequenceClassification model from a BertForPreTraining model).\n",
            "- This IS NOT expected if you are initializing Wav2Vec2ForCTC from the checkpoint of a model that you expect to be exactly identical (initializing a BertForSequenceClassification model from a BertForSequenceClassification model).\n",
            "Some weights of Wav2Vec2ForCTC were not initialized from the model checkpoint at jonatasgrosman/wav2vec2-large-xlsr-53-russian and are newly initialized: ['wav2vec2.encoder.pos_conv_embed.conv.parametrizations.weight.original0', 'wav2vec2.encoder.pos_conv_embed.conv.parametrizations.weight.original1']\n",
            "You should probably TRAIN this model on a down-stream task to be able to use it for predictions and inference.\n"
          ]
        },
        {
          "output_type": "stream",
          "name": "stdout",
          "text": [
            "\n",
            "Транскрибация для Phone_ARU_OFF.wav: примененнынат здрастиэте взаь таксим да поскажите пожалуйста сколько будет муде проестот проскекты посвещения ду эрапорта гоумира ра второенанать поаза нанепоет его нетоботнетамен посибо\n",
            "\n",
            "Транскрибация для Microphone_ARU_OFF.wav: рассталунита никрофона ноль телеметра но пят нет два нетр нмета ни метр пятнет чсё зната  птната чутоне метра  метр два нтра нет а пятмета альтри\n"
          ]
        }
      ]
    }
  ]
}