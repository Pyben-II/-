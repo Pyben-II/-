{
  "nbformat": 4,
  "nbformat_minor": 0,
  "metadata": {
    "colab": {
      "provenance": [],
      "include_colab_link": true
    },
    "kernelspec": {
      "name": "python3",
      "display_name": "Python 3"
    },
    "language_info": {
      "name": "python"
    }
  },
  "cells": [
    {
      "cell_type": "markdown",
      "metadata": {
        "id": "view-in-github",
        "colab_type": "text"
      },
      "source": [
        "<a href=\"https://colab.research.google.com/github/Pyben-II/Aidigo-logistic/blob/main/Ruben/2_%D0%A2%D1%80%D0%B0%D0%BD%D0%BA%D1%80%D0%B8%D0%B1%D0%B0%D1%86%D0%B8%D1%8F_(SpeechRecognition).ipynb\" target=\"_parent\"><img src=\"https://colab.research.google.com/assets/colab-badge.svg\" alt=\"Open In Colab\"/></a>"
      ]
    },
    {
      "cell_type": "markdown",
      "source": [
        "# Установка библиотек"
      ],
      "metadata": {
        "id": "xwtv9ooRWjrV"
      }
    },
    {
      "cell_type": "code",
      "source": [
        "# Подключение к гугл-диску\n",
        "from google.colab import drive\n",
        "drive.mount('/content/drive')"
      ],
      "metadata": {
        "colab": {
          "base_uri": "https://localhost:8080/"
        },
        "id": "H_yKZZx16hgA",
        "outputId": "97d25700-cfb1-4e29-aa4b-5d014eb28475"
      },
      "execution_count": null,
      "outputs": [
        {
          "output_type": "stream",
          "name": "stdout",
          "text": [
            "Mounted at /content/drive\n"
          ]
        }
      ]
    },
    {
      "cell_type": "code",
      "source": [
        "# Установка библиотек\n",
        "!pip install SpeechRecognition\n",
        "!pip install pydub"
      ],
      "metadata": {
        "colab": {
          "base_uri": "https://localhost:8080/"
        },
        "id": "xpjAq-iRxXTZ",
        "outputId": "d8d25c94-e7ed-4a05-b698-6609ed2e4bd9"
      },
      "execution_count": null,
      "outputs": [
        {
          "output_type": "stream",
          "name": "stdout",
          "text": [
            "Collecting SpeechRecognition\n",
            "  Downloading SpeechRecognition-3.10.1-py2.py3-none-any.whl (32.8 MB)\n",
            "\u001b[2K     \u001b[90m━━━━━━━━━━━━━━━━━━━━━━━━━━━━━━━━━━━━━━━━\u001b[0m \u001b[32m32.8/32.8 MB\u001b[0m \u001b[31m27.1 MB/s\u001b[0m eta \u001b[36m0:00:00\u001b[0m\n",
            "\u001b[?25hRequirement already satisfied: requests>=2.26.0 in /usr/local/lib/python3.10/dist-packages (from SpeechRecognition) (2.31.0)\n",
            "Requirement already satisfied: typing-extensions in /usr/local/lib/python3.10/dist-packages (from SpeechRecognition) (4.10.0)\n",
            "Requirement already satisfied: charset-normalizer<4,>=2 in /usr/local/lib/python3.10/dist-packages (from requests>=2.26.0->SpeechRecognition) (3.3.2)\n",
            "Requirement already satisfied: idna<4,>=2.5 in /usr/local/lib/python3.10/dist-packages (from requests>=2.26.0->SpeechRecognition) (3.6)\n",
            "Requirement already satisfied: urllib3<3,>=1.21.1 in /usr/local/lib/python3.10/dist-packages (from requests>=2.26.0->SpeechRecognition) (2.0.7)\n",
            "Requirement already satisfied: certifi>=2017.4.17 in /usr/local/lib/python3.10/dist-packages (from requests>=2.26.0->SpeechRecognition) (2024.2.2)\n",
            "Installing collected packages: SpeechRecognition\n",
            "Successfully installed SpeechRecognition-3.10.1\n",
            "Collecting pydub\n",
            "  Downloading pydub-0.25.1-py2.py3-none-any.whl (32 kB)\n",
            "Installing collected packages: pydub\n",
            "Successfully installed pydub-0.25.1\n"
          ]
        }
      ]
    },
    {
      "cell_type": "markdown",
      "source": [
        "# Загрузка библиотек"
      ],
      "metadata": {
        "id": "fKEaW-44cSxc"
      }
    },
    {
      "cell_type": "code",
      "source": [
        "# 1_SpeechRecognition\n",
        "import speech_recognition as sr\n",
        "from pydub import AudioSegment"
      ],
      "metadata": {
        "id": "1W_6PrKUci8g"
      },
      "execution_count": null,
      "outputs": []
    },
    {
      "cell_type": "markdown",
      "source": [
        "# Конвертация из .mp3, в .wav"
      ],
      "metadata": {
        "id": "SIyc5oDmEIcf"
      }
    },
    {
      "cell_type": "markdown",
      "source": [
        "## Конвертация одного файла"
      ],
      "metadata": {
        "id": "GKqjzYKiEMFc"
      }
    },
    {
      "cell_type": "code",
      "source": [
        "from pydub import AudioSegment\n",
        "\n",
        "# загрузки аудиофайла в формате .mp3, а затем его экспорт в формат .wav\n",
        "def convert_mp3_to_wav(mp3_file, wav_file):\n",
        "    sound = AudioSegment.from_mp3(mp3_file)\n",
        "    sound.export(wav_file, format=\"wav\")\n",
        "\n",
        "# Пути к фалам\n",
        "mp3_file = \"/content/drive/MyDrive/Пансионат(аудио)/Dataset/Split/audio1_segment_31.mp3\"\n",
        "wav_file = \"/content/drive/MyDrive/Пансионат(аудио)/Dataset/Split/wav/audio1_segment_31.wav\"\n",
        "\n",
        "# Вызов функции конвертации\n",
        "convert_mp3_to_wav(mp3_file, wav_file)"
      ],
      "metadata": {
        "id": "jF51yUUYER5O"
      },
      "execution_count": null,
      "outputs": []
    },
    {
      "cell_type": "markdown",
      "source": [
        "## Конвертация нескольких файлов"
      ],
      "metadata": {
        "id": "c3f7pC7BEPF8"
      }
    },
    {
      "cell_type": "code",
      "source": [
        "import os\n",
        "from pydub import AudioSegment\n",
        "\n",
        "# Функция для конвертации mp3 в wav\n",
        "def convert_mp3_to_wav(mp3_file, wav_file):\n",
        "    sound = AudioSegment.from_mp3(mp3_file)\n",
        "    sound.export(wav_file, format=\"wav\")\n",
        "\n",
        "# Пути к папкам с mp3 и wav файлами\n",
        "mp3_folder = \"/content/drive/MyDrive/Пансионат(аудио)/Dataset/Короткие фразы\"\n",
        "wav_folder = \"/content/drive/MyDrive/Пансионат(аудио)/Dataset/Короткие фразы/wav\"\n",
        "\n",
        "# Перебор файлов в папке mp3\n",
        "for mp3_file in os.listdir(mp3_folder):\n",
        "    if mp3_file.endswith(\".mp3\"):\n",
        "        mp3_path = os.path.join(mp3_folder, mp3_file)\n",
        "        wav_file = os.path.join(wav_folder, os.path.splitext(mp3_file)[0] + \".wav\")\n",
        "        convert_mp3_to_wav(mp3_path, wav_file)"
      ],
      "metadata": {
        "id": "zpjeOSaFEU0a"
      },
      "execution_count": null,
      "outputs": []
    },
    {
      "cell_type": "markdown",
      "source": [
        "# 1_SpeechRecognition"
      ],
      "metadata": {
        "id": "1kni2Qemcty3"
      }
    },
    {
      "cell_type": "markdown",
      "source": [
        "## Распознование исходного аудиофайла"
      ],
      "metadata": {
        "id": "FxX-SVrzWrLc"
      }
    },
    {
      "cell_type": "code",
      "source": [
        "# Создаем объект Recognizer\n",
        "recognizer = sr.Recognizer()\n",
        "\n",
        "# Загружаем аудиофайл\n",
        "audio_file = \"/content/drive/MyDrive/Пансионат(аудио)/Dataset/audio1.wav\"\n",
        "\n",
        "with sr.AudioFile(audio_file) as source:\n",
        "    audio_data = recognizer.record(source)  # Чтение аудиоданных\n",
        "\n",
        "    # Распознавание речи с помощью Google Web Speech API\n",
        "    try:\n",
        "        text = recognizer.recognize_google(audio_data, language=\"ru-RU\")\n",
        "        print(\"Текст из аудиофайла:\")\n",
        "        print(text)\n",
        "    except sr.UnknownValueError:\n",
        "        print(\"Речь не распознана\")\n",
        "    except sr.RequestError as e:\n",
        "        print(\"Ошибка при запросе к сервису распознавания: {0}\".format(e))"
      ],
      "metadata": {
        "colab": {
          "base_uri": "https://localhost:8080/"
        },
        "id": "qmx0UvqgUP89",
        "outputId": "0a5b46ae-3c64-4970-b1c2-652f84eb9f99"
      },
      "execution_count": null,
      "outputs": [
        {
          "output_type": "stream",
          "name": "stdout",
          "text": [
            "Ошибка при запросе к сервису распознавания: recognition connection failed: [Errno 32] Broken pipe\n"
          ]
        }
      ]
    },
    {
      "cell_type": "markdown",
      "source": [
        "# Подготовка (аудиосегменты)"
      ],
      "metadata": {
        "id": "aCty4q-CbtbL"
      }
    },
    {
      "cell_type": "code",
      "source": [
        "# Разделение аудиофайла на отдельные аудиосегменты с помощью библиотеки pydub\n",
        "\n",
        "# Загрузка аудиофайла\n",
        "file_name = \"audio1\"\n",
        "path = \"/content/drive/MyDrive/Пансионат(аудио)/Dataset/\" + file_name + \".mp3\"\n",
        "audio = AudioSegment.from_file(path, format=\"mp3\")\n",
        "\n",
        "# Деление (сплит) аудио на отдельные сегменты (например, каждые 10 секунд).\n",
        "segment_length = 10 * 1000  # в миллисекундах\n",
        "segments = [audio[i:i+segment_length] for i in range(0, len(audio), segment_length)]\n",
        "\n",
        "# Экспорт каждого сегмента как отдельный аудиофайл.\n",
        "for i, segment in enumerate(segments):\n",
        "    segment.export(f\"/content/drive/MyDrive/Пансионат(аудио)/Dataset/Split/{file_name}_segment_{i}.mp3\", format=\"mp3\")"
      ],
      "metadata": {
        "id": "5OxCVTuOG9Vm"
      },
      "execution_count": null,
      "outputs": []
    },
    {
      "cell_type": "code",
      "source": [
        "from google.colab import drive\n",
        "drive.mount('/content/drive')"
      ],
      "metadata": {
        "id": "mJB_Wla9ddIq"
      },
      "execution_count": null,
      "outputs": []
    },
    {
      "cell_type": "markdown",
      "source": [
        "# Распознование сегментированного аудиофайла (одного)"
      ],
      "metadata": {
        "id": "SNwHzRWBXPYm"
      }
    },
    {
      "cell_type": "code",
      "source": [
        "def speech_rec(audio_file):\n",
        "  # Создаем объект Recognizer\n",
        "  recognizer = sr.Recognizer()\n",
        "\n",
        "  with sr.AudioFile(audio_file) as source:\n",
        "      audio_data = recognizer.record(source)  # Чтение аудиоданных\n",
        "\n",
        "      # Распознавание речи с помощью Google Web Speech API\n",
        "      try:\n",
        "          text = recognizer.recognize_google(audio_data, language=\"ru-RU\")\n",
        "          print(\"Текст из аудиофайла:\")\n",
        "          print(text)\n",
        "      except sr.UnknownValueError:\n",
        "          print(\"Речь не распознана\")\n",
        "      except sr.RequestError as e:\n",
        "          print(\"Ошибка при запросе к сервису распознавания: {0}\".format(e))"
      ],
      "metadata": {
        "id": "0Bf45i0gA_4M"
      },
      "execution_count": null,
      "outputs": []
    },
    {
      "cell_type": "code",
      "source": [
        "  # Загружаем аудиофайл\n",
        "  audio_file = \"/content/drive/MyDrive/Пансионат(аудио)/Dataset/Split/wav/audio1_segment_32.wav\"\n",
        "  speech_rec(audio_file)"
      ],
      "metadata": {
        "colab": {
          "base_uri": "https://localhost:8080/"
        },
        "id": "5_LuvzLrBZb2",
        "outputId": "20403e7b-9de2-47c1-9cdf-33ca82fc9d9c"
      },
      "execution_count": null,
      "outputs": [
        {
          "output_type": "stream",
          "name": "stdout",
          "text": [
            "Текст из аудиофайла:\n",
            "нет нет ну всё уже ничего\n"
          ]
        }
      ]
    },
    {
      "cell_type": "markdown",
      "source": [
        "# Распознование сегментированнsх аудиофайлов"
      ],
      "metadata": {
        "id": "t_WCZ_ZBEpBc"
      }
    },
    {
      "cell_type": "code",
      "source": [
        "import os\n",
        "import speech_recognition as sr\n",
        "\n",
        "# Функция для распознавания речи в аудиофайле\n",
        "def speech_rec(audio_file, txt_folder):\n",
        "    recognizer = sr.Recognizer()\n",
        "\n",
        "    with sr.AudioFile(audio_file) as source:\n",
        "        audio_data = recognizer.record(source)\n",
        "\n",
        "        try:\n",
        "            text = recognizer.recognize_google(audio_data, language=\"ru-RU\")\n",
        "            print(f'\\nТекст из аудиофайла \"{wav_file}\":')\n",
        "            print(text)\n",
        "            # Сохранение текста в отдельный файл\n",
        "            text_file = os.path.splitext(os.path.basename(audio_file))[0] + \".txt\"\n",
        "            text_path = os.path.join(txt_folder, text_file)\n",
        "            with open(text_path, \"w\") as file:\n",
        "                file.write(text)\n",
        "        except sr.UnknownValueError:\n",
        "            print(\"Речь не распознана\")\n",
        "        except sr.RequestError as e:\n",
        "            print(\"Ошибка при запросе к сервису распознавания: {0}\".format(e))\n",
        "\n",
        "# Путь к папке с wav файлами\n",
        "wav_folder = \"/content/drive/MyDrive/Пансионат(аудио)/Dataset/Короткие фразы/wav\"\n",
        "\n",
        "# Путь к папке для сохранения текстовых файлов\n",
        "txt_folder = \"/content/drive/MyDrive/Пансионат(аудио)/Dataset/Короткие фразы/text\"\n",
        "\n",
        "# Перебор файлов в папке wav\n",
        "for wav_file in os.listdir(wav_folder):\n",
        "    if wav_file.endswith(\".wav\"):\n",
        "        wav_path = os.path.join(wav_folder, wav_file)\n",
        "        speech_rec(wav_path, txt_folder)"
      ],
      "metadata": {
        "colab": {
          "base_uri": "https://localhost:8080/"
        },
        "id": "W5Ytn_U7FtBY",
        "outputId": "3d84d044-fc4c-41b9-e2f8-ad66f646a171"
      },
      "execution_count": null,
      "outputs": [
        {
          "output_type": "stream",
          "name": "stdout",
          "text": [
            "\n",
            "Текст из аудиофайла \"навстречу эпохе - scanca.net.wav\":\n",
            "мы идём навстречу эпохи когда Социализм в той или иной его конкретный исторически обусловленной форме станет преобладающим общественной системой на Земле\n",
            "\n",
            "Текст из аудиофайла \"члены - scanca.net.wav\":\n",
            "члены политбюро ЦК КПСС кандидаты в члены политбюро и секретари ЦК КПСС первые секретари ЦК Компартии союзных республик другие члены Президиума торжественного заседания\n",
            "\n",
            "Текст из аудиофайла \"с добрым утром - scanca.net.wav\":\n",
            "начинаем нашу воскресную радиопередачу с добрым утром\n",
            "Речь не распознана\n",
            "Речь не распознана\n",
            "\n",
            "Текст из аудиофайла \"мерлин монро - scanca.net.wav\":\n",
            "И вообще я Мэрилин Монро У меня тоже номер лифчика\n",
            "\n",
            "Текст из аудиофайла \"в самодеятельности - scanca.net.wav\":\n",
            "вы в самодеятельности участвуете участвую\n",
            "\n",
            "Текст из аудиофайла \"лучшая девушка - scanca.net.wav\":\n",
            "Вы лучшая девушка в с\n",
            "\n",
            "Текст из аудиофайла \"элексир молодости - scanca.net.wav\":\n",
            "вы действуете на меня как эликсир молодости сейчас я не могу себе дать больше 17 лет\n",
            "\n",
            "Текст из аудиофайла \"универсал 69 - scanca.net.wav\":\n",
            "летний комбинированный костюм универсал 69 поощрительная премия номер областном форуме современной одежды в Житомире\n",
            "\n",
            "Текст из аудиофайла \"Идите в сад.wav\":\n",
            "вы ещё не в саду нет Идите в\n",
            "\n",
            "Текст из аудиофайла \"Это просто праздник.wav\":\n",
            "это просто праздник какой-то\n",
            "\n",
            "Текст из аудиофайла \"Это была комедия.wav\":\n",
            "даётся мне Джентльмены это была комедия\n",
            "Речь не распознана\n",
            "\n",
            "Текст из аудиофайла \"Всё, кина не будет.wav\":\n",
            "всё кина не будет электричество кончилось\n",
            "\n",
            "Текст из аудиофайла \"Ларису Ивановну хачу.wav\":\n",
            "Алло Ларису Ивановну хочу\n",
            "Речь не распознана\n"
          ]
        }
      ]
    },
    {
      "cell_type": "code",
      "source": [
        "import os\n",
        "\n",
        "# Функция для чтения слов из файла\n",
        "def read_words_from_file(file_path):\n",
        "    with open(file_path, \"r\", encoding=\"utf-8\") as file:\n",
        "        words = set(file.read().split())\n",
        "    return words\n",
        "\n",
        "# Путь к файлу с ненормативными словами\n",
        "non_standard_file = \"/content/drive/MyDrive/Пансионат(аудио)/Dataset/Короткие фразы/text/Ненорматив.txt\"\n",
        "non_standard_words = read_words_from_file(non_standard_file)\n",
        "\n",
        "# Путь к папке с текстовыми файлами\n",
        "text_folder = \"/content/drive/MyDrive/Пансионат(аудио)/Dataset/Короткие фразы/text\"\n",
        "\n",
        "# Перебор текстовых файлов в папке \"TEKST\"\n",
        "for text_file in os.listdir(text_folder):\n",
        "    if text_file.endswith(\".txt\") and text_file != \"Ненорматив.txt\":\n",
        "        text_path = os.path.join(text_folder, text_file)\n",
        "        text_words = read_words_from_file(text_path)\n",
        "\n",
        "        common_words = non_standard_words.intersection(text_words)\n",
        "\n",
        "        if common_words:\n",
        "            print(f\"Файл '{text_file}' содержит схожие слова с файлом 'Ненорматив.txt': {common_words}\")"
      ],
      "metadata": {
        "colab": {
          "base_uri": "https://localhost:8080/"
        },
        "id": "j5jbJYwVU1c1",
        "outputId": "6c6b014d-f95c-40bf-9ef2-66cf02f47d50"
      },
      "execution_count": null,
      "outputs": [
        {
          "output_type": "stream",
          "name": "stdout",
          "text": [
            "Файл 'навстречу эпохе - scanca.net.txt' содержит схожие слова с файлом 'Ненорматив.txt': {'Социализм'}\n",
            "Файл 'Всё, кина не будет.txt' содержит схожие слова с файлом 'Ненорматив.txt': {'электричество'}\n"
          ]
        }
      ]
    },
    {
      "cell_type": "markdown",
      "source": [
        "# Определение женского и мужских голосов"
      ],
      "metadata": {
        "id": "nAfX9WQLWbed"
      }
    },
    {
      "cell_type": "code",
      "source": [
        "import numpy as np\n",
        "import scipy.io.wavfile as wav\n",
        "\n",
        "def detect_gender_voice(audio_file):\n",
        "    rate, data = wav.read(audio_file)\n",
        "    fft_out = np.fft.fft(data)\n",
        "    freqs = np.fft.fftfreq(len(fft_out))\n",
        "    idx = np.argmax(np.abs(fft_out))\n",
        "    freq = freqs[idx]\n",
        "\n",
        "    if freq > 55:  # Частота для женского голоса\n",
        "        return \"Женский голос\"\n",
        "    else:\n",
        "        return \"Мужской голос\"\n",
        "\n",
        "# Пример использования\n",
        "audio_file = \"/content/drive/MyDrive/Пансионат(аудио)/Dataset/Split/wav/audio1_segment_32.wav\"\n",
        "# audio_file = \"/content/drive/MyDrive/Пансионат(аудио)/Dataset/Короткие фразы/wav/Ларису Ивановну хачу.wav\"\n",
        "result = detect_gender_voice(audio_file)\n",
        "print(result)"
      ],
      "metadata": {
        "colab": {
          "base_uri": "https://localhost:8080/"
        },
        "id": "KznZLRXxV2ge",
        "outputId": "35efc3bc-4c50-40e1-827e-6dda7d9e5481"
      },
      "execution_count": null,
      "outputs": [
        {
          "output_type": "stream",
          "name": "stdout",
          "text": [
            "Мужской голос\n"
          ]
        }
      ]
    }
  ]
}